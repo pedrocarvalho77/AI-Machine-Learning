{
 "cells": [
  {
   "cell_type": "code",
   "execution_count": 12,
   "id": "a0978d78-6a76-4645-b075-062ca88bc569",
   "metadata": {
    "tags": []
   },
   "outputs": [],
   "source": [
    "import pandas as pd\n",
    "from sklearn import tree\n",
    "speedDating = pd.read_csv(\"~/Faculdade/3ano/2sem/IA/trabalho2/AI-Machine-Learning/speedDating_trab.csv\")"
   ]
  },
  {
   "cell_type": "code",
   "execution_count": 13,
   "id": "397439f4-b93f-4a80-8aee-d6ca4d4a1b61",
   "metadata": {},
   "outputs": [],
   "source": [
    "#media\n",
    "#df[col].fillna(df[col].mean(), inplace = True)\n",
    "#speedDating[\"prob\"].fillna(speedDating[\"prob\"].mean(), inplace=True)\n",
    "\n",
    "#mais comum\n",
    "#most_common_category = df[col].value_counts().index[0]\n",
    "#df[col].fillna(most_common_category, inplace = True)\n",
    "\n",
    "#most_common_category_prob = speedDating[\"prob\"].value_counts().index[0]\n",
    "#print(most_common_category_prob)\n",
    "#speedDating[\"prob\"].fillna(most_common_category_prob, inplace = True)"
   ]
  },
  {
   "cell_type": "code",
   "execution_count": 14,
   "id": "2004bdbf-c56d-4b81-9c88-ae885836fe52",
   "metadata": {
    "tags": []
   },
   "outputs": [
    {
     "name": "stdout",
     "output_type": "stream",
     "text": [
      "Number of rows = 8378\n",
      "Total Nulls\n",
      " Unnamed: 0    False\n",
      "id            False\n",
      "partner       False\n",
      "age           False\n",
      "age_o         False\n",
      "goal          False\n",
      "date          False\n",
      "go_out        False\n",
      "int_corr      False\n",
      "length        False\n",
      "met           False\n",
      "like          False\n",
      "prob          False\n",
      "match         False\n",
      "dtype: bool\n"
     ]
    }
   ],
   "source": [
    "#condição para verificar se existe missing values em mais de 70% das entradas para cada coluna\n",
    "total_rows=speedDating.shape[0]\n",
    "print(\"Number of rows =\",total_rows)\n",
    "print(\"Total Nulls\\n\" ,speedDating.isnull().sum() > 0.7*total_rows)\n",
    "\n",
    "#como em nenhuma situaçao tal se verifica nao eliminamos colunas"
   ]
  },
  {
   "cell_type": "code",
   "execution_count": 15,
   "id": "b74b8ad9-d15a-43f9-b042-0d717e1a81f8",
   "metadata": {},
   "outputs": [
    {
     "name": "stdout",
     "output_type": "stream",
     "text": [
      "<class 'pandas.core.frame.DataFrame'>\n",
      "Int64Index: 6878 entries, 0 to 8376\n",
      "Data columns (total 14 columns):\n",
      " #   Column      Non-Null Count  Dtype  \n",
      "---  ------      --------------  -----  \n",
      " 0   Unnamed: 0  6878 non-null   int64  \n",
      " 1   id          6878 non-null   float64\n",
      " 2   partner     6878 non-null   int64  \n",
      " 3   age         6878 non-null   float64\n",
      " 4   age_o       6878 non-null   float64\n",
      " 5   goal        6878 non-null   float64\n",
      " 6   date        6878 non-null   float64\n",
      " 7   go_out      6878 non-null   float64\n",
      " 8   int_corr    6878 non-null   float64\n",
      " 9   length      6878 non-null   float64\n",
      " 10  met         6878 non-null   float64\n",
      " 11  like        6878 non-null   float64\n",
      " 12  prob        6878 non-null   float64\n",
      " 13  match       6878 non-null   int64  \n",
      "dtypes: float64(11), int64(3)\n",
      "memory usage: 806.0 KB\n"
     ]
    }
   ],
   "source": [
    "# Eliminar linhas\n",
    "mod_speedDating = speedDating.dropna()\n",
    "mod_speedDating.info()\n",
    "\n",
    "#remove cerca de 18% das linhas o que tendo em conta que sao apenas 8378\n",
    "#creio que sao demasiadas para este problema, assims sendo nao serao removidas linhas"
   ]
  },
  {
   "cell_type": "code",
   "execution_count": 16,
   "id": "00c4a7e1-53c7-41ae-afae-232ff103353e",
   "metadata": {},
   "outputs": [],
   "source": [
    "#print(\"media age\",speedDating['prob'].mean())\n",
    "#print(\"mediana age\",speedDating['prob'].median())\n",
    "#print(\"moda age\",speedDating['prob'].mode())\n",
    "\n",
    "#print(\"\\n\")\n",
    "#print(x)\n",
    "\n",
    "#print(x.shape)\n",
    "\n",
    "#y = speedDating[\"match\"]\n",
    "\n",
    "#print(y.head())\n",
    "\n",
    "#clf = tree.DecisionTreeRegressor()\n",
    "#clf = clf.fit(x,y)\n",
    "\n",
    "#clf.predict([[1,11,19,26,3,3,2,0.7,3,0,8,7]])"
   ]
  },
  {
   "cell_type": "code",
   "execution_count": null,
   "id": "75842b27-1dba-4154-8ea2-48a5b0d24e77",
   "metadata": {},
   "outputs": [],
   "source": []
  }
 ],
 "metadata": {
  "kernelspec": {
   "display_name": "Python 3",
   "language": "python",
   "name": "python3"
  },
  "language_info": {
   "codemirror_mode": {
    "name": "ipython",
    "version": 3
   },
   "file_extension": ".py",
   "mimetype": "text/x-python",
   "name": "python",
   "nbconvert_exporter": "python",
   "pygments_lexer": "ipython3",
   "version": "3.9.4"
  }
 },
 "nbformat": 4,
 "nbformat_minor": 5
}
